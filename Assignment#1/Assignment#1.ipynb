{
 "cells": [
  {
   "cell_type": "code",
   "execution_count": 1,
   "id": "24399eb8",
   "metadata": {},
   "outputs": [
    {
     "name": "stdout",
     "output_type": "stream",
     "text": [
      "Twinkle, twinkle, little star\n",
      "              How I wonder what you are!\n",
      "                     Up about world so high,\n",
      "                     Like a diamond in the sky!\n",
      "    Twinkle, twinkle, little star\n",
      "    How I wonder what you are!\n"
     ]
    }
   ],
   "source": [
    "a='''Twinkle, twinkle, little star\n",
    "              How I wonder what you are!\n",
    "                     Up about world so high,\n",
    "                     Like a diamond in the sky!\n",
    "    Twinkle, twinkle, little star\n",
    "    How I wonder what you are!'''\n",
    "print (a)\n"
   ]
  },
  {
   "cell_type": "code",
   "execution_count": 2,
   "id": "d06f1f87",
   "metadata": {},
   "outputs": [
    {
     "name": "stdout",
     "output_type": "stream",
     "text": [
      "Python version\n",
      "3.9.7 (default, Sep 16 2021, 16:59:28) [MSC v.1916 64 bit (AMD64)]\n",
      "Version info.\n",
      "sys.version_info(major=3, minor=9, micro=7, releaselevel='final', serial=0)\n"
     ]
    }
   ],
   "source": [
    "import sys\n",
    "print(\"Python version\")\n",
    "print (sys.version)\n",
    "print(\"Version info.\")\n",
    "print (sys.version_info)"
   ]
  },
  {
   "cell_type": "code",
   "execution_count": 3,
   "id": "ecb5d7b8",
   "metadata": {},
   "outputs": [
    {
     "name": "stdout",
     "output_type": "stream",
     "text": [
      "Current date and time : \n",
      "2022-01-01 00:46:21\n"
     ]
    }
   ],
   "source": [
    "import datetime\n",
    "now = datetime.datetime.now()\n",
    "print (\"Current date and time : \")\n",
    "print (now.strftime(\"%Y-%m-%d %H:%M:%S\"))"
   ]
  },
  {
   "cell_type": "code",
   "execution_count": 4,
   "id": "94bc427c",
   "metadata": {},
   "outputs": [
    {
     "name": "stdout",
     "output_type": "stream",
     "text": [
      "Enter raduis of circle: 10\n",
      "Arean of this circle is = 314.159265\n"
     ]
    }
   ],
   "source": [
    "import math\n",
    "r=float (input(\"Enter raduis of circle: \"))\n",
    "area=math.pi*r*r\n",
    "print(\"Arean of this circle is = %2f\" %area)"
   ]
  },
  {
   "cell_type": "code",
   "execution_count": 5,
   "id": "e6beb53f",
   "metadata": {},
   "outputs": [
    {
     "name": "stdout",
     "output_type": "stream",
     "text": [
      "What is your first name?:Muhammad\n",
      "What is your last name?Rizwan\n",
      "dammahuM nawziR\n"
     ]
    }
   ],
   "source": [
    "firstname = input(\"What is your first name?:\")\n",
    "lastname = input(\"What is your last name?\")\n",
    "print(firstname[::-1] + \" \" + lastname[::-1])\n"
   ]
  },
  {
   "cell_type": "code",
   "execution_count": 6,
   "id": "f54c8e97",
   "metadata": {},
   "outputs": [
    {
     "name": "stdout",
     "output_type": "stream",
     "text": [
      "Type a number: 69\n",
      "Type another number: 78\n",
      "The sum is:  147\n"
     ]
    }
   ],
   "source": [
    "x = input(\"Type a number: \")\n",
    "y = input(\"Type another number: \")\n",
    "\n",
    "sum = int(x) + int(y)\n",
    "\n",
    "print(\"The sum is: \", sum)\n"
   ]
  }
 ],
 "metadata": {
  "kernelspec": {
   "display_name": "Python 3 (ipykernel)",
   "language": "python",
   "name": "python3"
  },
  "language_info": {
   "codemirror_mode": {
    "name": "ipython",
    "version": 3
   },
   "file_extension": ".py",
   "mimetype": "text/x-python",
   "name": "python",
   "nbconvert_exporter": "python",
   "pygments_lexer": "ipython3",
   "version": "3.9.7"
  }
 },
 "nbformat": 4,
 "nbformat_minor": 5
}
